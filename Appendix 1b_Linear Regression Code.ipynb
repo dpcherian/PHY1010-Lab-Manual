{
 "cells": [
  {
   "cell_type": "markdown",
   "metadata": {},
   "source": [
    "# Experiment $n$ - NAME\n",
    "***\n",
    "\n",
    "**Date: **\n",
    "**Data taken by:**\n",
    "\n",
    "**Equipment used:**\n",
    "1. Instrument 1 (LC: 0.1mm)\n",
    "1. Instrument 2 (LC: 0.2V)\n",
    "1. ...\n"
   ]
  },
  {
   "cell_type": "code",
   "execution_count": 6,
   "metadata": {},
   "outputs": [],
   "source": [
    "######************************ INPUT YOUR DATA HERE ************************######\n",
    "\n",
    "data_file = \"exp_n_data_1.csv\"            # Add the name of the data file (csv or txt). \n",
    "data_file = \"exp1_ohm.csv\"\n",
    "x_label = r'x-axis (unit - e.g. $\\mu$ A)' # X axis labels\n",
    "y_label = r'y-axis (unit)'                # Y axis labels\n",
    "\n",
    "round_slope = 3                           # Number of digits to round-off slope\n",
    "round_intercept = 3                       # Number of digits to round-off intercept\n",
    "\n",
    "#Once this is done, run the rest of the code: it should print a well formatted graph.\n",
    "\n",
    "#********************************************************************************#"
   ]
  },
  {
   "cell_type": "code",
   "execution_count": 7,
   "metadata": {},
   "outputs": [],
   "source": [
    "import numpy as np                   # Importing the NumPy package\n",
    "\n",
    "import matplotlib.pyplot as plt      # Importing the Matplotlib package for plotting\n",
    "                                     # \"Magic\" to display images inline\n",
    "%matplotlib inline                   \n",
    "\n",
    "import scipy as scp                  # Importing the SciPy package\n",
    "from scipy.optimize import curve_fit # Importing the curve fitting module from SciPy"
   ]
  },
  {
   "cell_type": "code",
   "execution_count": 8,
   "metadata": {},
   "outputs": [],
   "source": [
    "data = np.genfromtxt(data_file, delimiter=\",\") # Looks in the current directory for the csv (or txt) file\n",
    "                                               # and imports it, with commas being treated as different\n",
    "                                               # cell values.\n",
    "\n",
    "xpoints = data[:,0]                            # Get the first column of data, and save it to xpoints\n",
    "ypoints = data[:,1]                            # Idem for the second column and ypoints."
   ]
  },
  {
   "cell_type": "code",
   "execution_count": 9,
   "metadata": {},
   "outputs": [],
   "source": [
    "def f(x, a, b):                              # Define a function `f` which `returns` a value of a*x+b\n",
    "    return a*x + b                           # This line makes sure that the function returns the above value\n",
    "\n",
    "par, covariance = curve_fit(f, xpoints, ypoints)\n",
    "\n",
    "m = np.round(par[0],round_slope)             # For simplicity, we assign the values of par[] to variables m \n",
    "c = np.round(par[1],round_intercept)         # and c, rounded off approrpiately using the np.round() function."
   ]
  },
  {
   "cell_type": "code",
   "execution_count": 14,
   "metadata": {},
   "outputs": [
    {
     "data": {
      "image/png": "[encoded data removed]",
      "text/plain": [
       "<Figure size 432x288 with 1 Axes>"
      ]
     },
     "metadata": {},
     "output_type": "display_data"
    }
   ],
   "source": [
    "ytrend = m*xpoints+c                # Create an array of y values corresponding to the xpoints, \n",
    "                                    # which satisfy the trendline with the given slope (m) and intercept (c)\n",
    "    \n",
    "    \n",
    "#####********Displaying a trendline on the graph area**********#####\n",
    "eqn = 'y(x) = '+f'{m:.3f}'+'x'+f'{c:+}' # Equation of trendline as a string; we'll print this equation on the graph\n",
    "\n",
    "xmin = np.min(xpoints)*1.1          # Coordinates to place the trendline: I have chosen to place it near the\n",
    "ymax = np.max(ypoints)*0.9          # minimum x-coordinate and the maximum y-coordinate. You could use any two\n",
    "                                    # points like (14,2), for example.\n",
    "\n",
    "plt.text(xmin, ymax,eqn,fontsize=12)# Adding the equation string to the graph area, at xmin and ymax\n",
    "\n",
    "\n",
    "#******************************************************************#\n",
    "\n",
    "\n",
    "plt.scatter(xpoints,ypoints)        # Plotting the data-points\n",
    "plt.plot(xpoints, ytrend, 'r--')    # Plotting the trend-line\n",
    "\n",
    "plt.xlabel(x_label)                 # Formatting the axes\n",
    "plt.ylabel(y_label)\n",
    "plt.show();"
   ]
  },
  {
   "cell_type": "code",
   "execution_count": null,
   "metadata": {},
   "outputs": [],
   "source": []
  }
 ],
 "metadata": {
  "kernelspec": {
   "display_name": "Python 3",
   "language": "python",
   "name": "python3"
  },
  "language_info": {
   "codemirror_mode": {
    "name": "ipython",
    "version": 3
   },
   "file_extension": ".py",
   "mimetype": "text/x-python",
   "name": "python",
   "nbconvert_exporter": "python",
   "pygments_lexer": "ipython3",
   "version": "3.6.6"
  }
 },
 "nbformat": 4,
 "nbformat_minor": 2
}
